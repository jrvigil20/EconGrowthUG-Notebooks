{
 "cells": [
  {
   "cell_type": "markdown",
   "id": "a22eea28",
   "metadata": {
    "slideshow": {
     "slide_type": "slide"
    },
    "tags": [],
    "user_expressions": []
   },
   "source": [
    "<h1><center>Jesse R. Vigil</center></h1>\n",
    "<p><center>Dallas Tx, 75205 • (214)-xxx-xxxx • jxxxx@smu.edu</center></p>\n",
    "\n",
    "\n",
    "#### Professional Summary\n",
    "&nbsp;&nbsp;&nbsp;&nbsp;&nbsp;&nbsp;A results-oriented leader who balanced the organization of personnel, time management, for on-going projects and new projects, and inventory management to ensure a fully functioning and operational team. Equally  capable of working alone or as a member of a team, and comfortable exercising initiative, using critical thinking, and solving problems. Obtained and maintain an active SECRET security clearance."
   ]
  },
  {
   "cell_type": "markdown",
   "id": "ef6c9e77",
   "metadata": {
    "slideshow": {
     "slide_type": "slide"
    },
    "tags": [],
    "user_expressions": []
   },
   "source": [
    "<h1><center>Experience</center></h1>"
   ]
  },
  {
   "cell_type": "markdown",
   "id": "5783d369",
   "metadata": {
    "slideshow": {
     "slide_type": "slide"
    },
    "tags": [],
    "user_expressions": []
   },
   "source": [
    "## Tenet health\n",
    "Dallas, Tx Jan-Aug 2022\n",
    "\n",
    "*Intern for Exec Compensation and Benefits* \n",
    "* Reviewed the Benefits team health insurance cost analysis data to identify a potential savings of 53 million dollars, then helped strategies on how to keep the Benefits budget at or below 800 million dollars for the company.\n",
    "* Taught myself new software to pull wage and labor market data from national and global markets.\n",
    "* Took my wage and labor market data, interpreted the data and identified where the company lags the market, to help Tenet lead the market in wages to recruit and retain top level talent.\n",
    "* Worked with the executive compensation team to prepare the SEC required proxy statements and learned about executive compensation plans, such as; industry and company specific stock option payout and timing strategies to name a few.\n",
    "* Revised and improved 56 legal contracts, reducing the number of contracts to 15 enterprise-wide modular, legally sound contracts, eliminating redundat, outdated, and legally weak contracts"
   ]
  },
  {
   "cell_type": "markdown",
   "id": "99f8416a",
   "metadata": {
    "slideshow": {
     "slide_type": "slide"
    },
    "tags": [],
    "user_expressions": []
   },
   "source": [
    "## Office of Chaplain and Religious Life Southern Methodist University (SMU)\n",
    "Dallas, Tx\n",
    "Jan-May 2021\n",
    "\n",
    "*Office Administration and SMU Chaplain assistant*\n",
    "* Responsible for the procurement of hosting venues for meetings, SMU campus events, and get-togethers. Also includes the planning, ordering, set-up, and execution of acquiring all necessary equipment, food, beverages, and large catering orders when necessary. Was entrusted with a SMU credit card.\n",
    "* Maintained supplies and refreshments in the office by tracking inventory and submitting orders in a timely manner to ensure the office never fell behind on supplies and refreshments.\n",
    "* Worked at the office front desk, which required greeting visitors, answering questions for guests, taking appointments for the Chaplain, handling sensitive mail and delivers, setting up office equipment, and maintained general welfare of the office"
   ]
  },
  {
   "cell_type": "markdown",
   "id": "2485feb9",
   "metadata": {
    "slideshow": {
     "slide_type": "slide"
    },
    "tags": [],
    "user_expressions": []
   },
   "source": [
    "## U.S. Army Watercraft Engineer\n",
    "*Marine Engineering Department Supervisor*\n",
    "Fort Eustis, Va\n",
    "Mar 2018-Feb 2020 \n",
    "* Selected ahead of my peers to attend Junior Marine Engineering Officer school. Once graduated I was selected over 6 higher ranking Engineers to hold the Junior Marine Engineering Officer position on a mission capable vessel\n",
    "* Selected above my paygrade and out of my specialty to lead a a team of 3 radio operators for a Joint Logistics Over the Sea training mission. Received Army Achievement medal.\n",
    "* Successfully trained and licensed 5 junior enginemen during a mission in Japan, meeting the number for immediate mission critical need, and reducing licensing time by over 50% while maintaining high standards of qualifications.\n",
    "* Led a team of 7 junior engineers in vessel operation and preventive maintenance. Ensured proper health, welfare, training, and professional development for junior engineers. I increased competency and cohesion in the team, resulting in early promotions for team members.\n",
    "* Given 72 hours to effectively revive a vessel from inoperable status to mission capable status while deployed to a Kuwaiti naval base. Completed the task in 45 hours. "
   ]
  },
  {
   "cell_type": "markdown",
   "id": "13feec68",
   "metadata": {
    "slideshow": {
     "slide_type": "slide"
    },
    "tags": [],
    "user_expressions": []
   },
   "source": [
    "* Created and implemented a vessel maintenance program for 8.2 million dollars worth of machinery on-board including marine diesel engines, electromagnetic generators, electrical components, A/C and refrigeration systems, hydraulic systems, and pneumatic systems to name a few. Implementation resulted in 100% uptime on mission critical systems.\n",
    "* Led my team in proper storage, use, and disposal of hazardous material on-board. Directed the successful transfer of more than 84,000 gallons of fuel oil and 14,000 gallons of sludge with zero environmental impact.\n",
    "* Elected and acted as Fire Marshal to lead 40 soldiers in damage control and firefighting, decreasing emergency response time by 70% through my guidance.\n",
    "* Selected to lead my units Physical Rehabilitation program due to excellent Physical test scores and leadership instinct.\n",
    "* Took charge and solved a Potable Water system-wide malfunction to ensure the overall mission objective was met on time. Received Army Achievement medal. \n",
    "* Allocated assets critical for an Expeditionary Brigade in a Japan mission, leading to the successful transitioned over 2.5 million pounds of equipment from land to sea ahead of schedule. \n",
    "* Implemented a supply ordering system for the procurement of over 75,000 thousand dollars worth of parts and tools, increasing vessel efficiency and lowering machinery downtime."
   ]
  },
  {
   "cell_type": "markdown",
   "id": "483d5e2b",
   "metadata": {
    "slideshow": {
     "slide_type": "slide"
    },
    "tags": [],
    "user_expressions": []
   },
   "source": [
    "<h1><center>Education</center></h1>"
   ]
  },
  {
   "cell_type": "markdown",
   "id": "0cb12701",
   "metadata": {
    "slideshow": {
     "slide_type": "slide"
    },
    "tags": [],
    "user_expressions": []
   },
   "source": [
    "## Southern Methodist University\n",
    "Dallas, Tx\n",
    "Aug 2020-now\n",
    "Dedman School of Humanities and Sciences\n",
    "*Bachelor of Science,* Economics. Graduation date of May 2023\n",
    "\n",
    "#### U.S. Army Maritime and Intermodal Training Acadamy\n",
    "Fort Eustis Va\n",
    "Army Watercraft Junior Engineering Officer school.\n",
    "\n",
    "Army Watercraft Basic Engineering school. \n",
    "\n",
    "#### Skills and Certifications\n",
    "Excel Associates Certificate.\n",
    "\n",
    "U.S. Coast Gaurd certified in marine electrical and fast rescue boat operation.\n",
    "\n",
    "XVIII Airborne Corps Fort Bragg Leadership Acadamy, U.S. Army Basic Leadership."
   ]
  }
 ],
 "metadata": {
  "celltoolbar": "Slideshow",
  "kernelspec": {
   "display_name": "Python 3 (ipykernel)",
   "language": "python",
   "name": "python3"
  },
  "language_info": {
   "codemirror_mode": {
    "name": "ipython",
    "version": 3
   },
   "file_extension": ".py",
   "mimetype": "text/x-python",
   "name": "python",
   "nbconvert_exporter": "python",
   "pygments_lexer": "ipython3",
   "version": "3.9.13"
  }
 },
 "nbformat": 4,
 "nbformat_minor": 5
}
