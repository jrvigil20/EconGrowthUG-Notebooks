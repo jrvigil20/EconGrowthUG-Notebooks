{
 "cells": [
  {
   "cell_type": "markdown",
   "id": "f25a1ad6-57b7-427d-a60e-c4e14a0d85eb",
   "metadata": {},
   "source": [
    "# CV"
   ]
  }
 ],
 "metadata": {
  "kernelspec": {
   "display_name": "Python 3 (ipykernel)",
   "language": "python",
   "name": "python3"
  },
  "language_info": {
   "name": ""
  }
 },
 "nbformat": 4,
 "nbformat_minor": 5
}
